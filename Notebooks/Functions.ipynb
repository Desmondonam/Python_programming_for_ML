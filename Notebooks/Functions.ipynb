{
 "cells": [
  {
   "cell_type": "markdown",
   "metadata": {},
   "source": [
    "This notebook is meant to teach on the python fuctions basics"
   ]
  },
  {
   "cell_type": "markdown",
   "metadata": {},
   "source": [
    "To define a function in Python, you use the def keyword followed by the function name and parentheses. Any input parameters are listed within the parentheses, and a colon signifies the start of the function block. The block is indented to indicate that it belongs to the function."
   ]
  },
  {
   "cell_type": "code",
   "execution_count": 1,
   "metadata": {},
   "outputs": [],
   "source": [
    "## the first example\n",
    "def greet():\n",
    "    print(\"Hello, there!\")"
   ]
  },
  {
   "cell_type": "code",
   "execution_count": 2,
   "metadata": {},
   "outputs": [
    {
     "name": "stdout",
     "output_type": "stream",
     "text": [
      "Hello, there!\n"
     ]
    }
   ],
   "source": [
    "## You can call this function by this code \n",
    "greet()"
   ]
  },
  {
   "cell_type": "markdown",
   "metadata": {},
   "source": [
    "You can define functions with parameters, allowing you to pass values into the function for it to work with. Parameters are specified within the parentheses when defining the function, and you can use them within the function block."
   ]
  },
  {
   "cell_type": "code",
   "execution_count": 6,
   "metadata": {},
   "outputs": [],
   "source": [
    "def greet_name(name):\n",
    "    print(\"Hello \"+ name + \".\")"
   ]
  },
  {
   "cell_type": "markdown",
   "metadata": {},
   "source": [
    "### You can also call a fuction with Arguements\n",
    "When calling a function with parameters, you pass the arguments within the parentheses.\n",
    "\n"
   ]
  },
  {
   "cell_type": "code",
   "execution_count": 7,
   "metadata": {},
   "outputs": [
    {
     "name": "stdout",
     "output_type": "stream",
     "text": [
      "Hello Desmond.\n"
     ]
    }
   ],
   "source": [
    "greet_name(\"Desmond\")"
   ]
  },
  {
   "cell_type": "markdown",
   "metadata": {},
   "source": [
    "## Return statement"
   ]
  },
  {
   "cell_type": "code",
   "execution_count": 8,
   "metadata": {},
   "outputs": [],
   "source": [
    "def add_nums(a,b):\n",
    "    return a+b"
   ]
  },
  {
   "cell_type": "markdown",
   "metadata": {},
   "source": [
    "## Functional call with the return statement"
   ]
  },
  {
   "cell_type": "code",
   "execution_count": 10,
   "metadata": {},
   "outputs": [
    {
     "name": "stdout",
     "output_type": "stream",
     "text": [
      "8\n"
     ]
    }
   ],
   "source": [
    "result = add_nums(5, 3)\n",
    "print(result)"
   ]
  },
  {
   "cell_type": "markdown",
   "metadata": {},
   "source": [
    "Now with this knowledge let us create a simple python calculator"
   ]
  },
  {
   "cell_type": "markdown",
   "metadata": {},
   "source": [
    "## Step 1: Define Functions for Calculator Operations\n",
    "Define functions for each calculator operation, such as addition, subtraction, multiplication, and division. \n",
    "Each function will take two input numbers and return the result."
   ]
  },
  {
   "cell_type": "code",
   "execution_count": 11,
   "metadata": {},
   "outputs": [],
   "source": [
    "def add(num1, num2):\n",
    "    return num1 + num2\n",
    "\n",
    "def subtract(num1, num2):\n",
    "    return num1 - num2\n",
    "\n",
    "def multiply(num1, num2):\n",
    "    return num1 * num2\n",
    "\n",
    "def divide(num1, num2):\n",
    "    return num1 / num2"
   ]
  },
  {
   "cell_type": "markdown",
   "metadata": {},
   "source": [
    "### Step 2: Get User Input\n",
    "Write a function to get user input for the numbers and the desired operation. \n",
    "You can use the input() function to prompt the user for input."
   ]
  },
  {
   "cell_type": "code",
   "execution_count": 12,
   "metadata": {},
   "outputs": [],
   "source": [
    "def get_user_input():\n",
    "    num1 = float(input(\"Enter the first number: \"))\n",
    "    num2 = float(input(\"Enter the second number: \"))\n",
    "    operation = input(\"Enter the operation (+, -, *, /): \")\n",
    "    return num1, num2, operation"
   ]
  },
  {
   "cell_type": "markdown",
   "metadata": {},
   "source": [
    "### Step 3: Perform Calculation\n",
    "Write a function to perform the calculation based on the user's input. \n",
    "This function will call the respective calculator function based on the operation provided."
   ]
  },
  {
   "cell_type": "code",
   "execution_count": 13,
   "metadata": {},
   "outputs": [],
   "source": [
    "def perform_calculation(num1, num2, operation):\n",
    "    if operation == \"+\":\n",
    "        return add(num1, num2)\n",
    "    elif operation == \"-\":\n",
    "        return subtract(num1, num2)\n",
    "    elif operation == \"*\":\n",
    "        return multiply(num1, num2)\n",
    "    elif operation == \"/\":\n",
    "        return divide(num1, num2)\n",
    "    else:\n",
    "        print(\"Invalid operation\")"
   ]
  },
  {
   "cell_type": "markdown",
   "metadata": {},
   "source": [
    "## Step 4: Main Function\n",
    "Write a main function that brings everything together. \n",
    "It will call the get_user_input() function to get the input from the user, \n",
    "then call the perform_calculation() function to perform the calculation and display the result."
   ]
  },
  {
   "cell_type": "code",
   "execution_count": 14,
   "metadata": {},
   "outputs": [
    {
     "name": "stdout",
     "output_type": "stream",
     "text": [
      "Enter the first number: 54\n",
      "Enter the second number: 43\n",
      "Enter the operation (+, -, *, /): +\n",
      "Result: 97.0\n"
     ]
    }
   ],
   "source": [
    "def main():\n",
    "    num1, num2, operation = get_user_input()\n",
    "    result = perform_calculation(num1, num2, operation)\n",
    "    print(\"Result:\", result)\n",
    "\n",
    "# Call the main function to start the program\n",
    "main()"
   ]
  },
  {
   "cell_type": "code",
   "execution_count": null,
   "metadata": {},
   "outputs": [],
   "source": []
  }
 ],
 "metadata": {
  "kernelspec": {
   "display_name": "Python 3",
   "language": "python",
   "name": "python3"
  },
  "language_info": {
   "codemirror_mode": {
    "name": "ipython",
    "version": 3
   },
   "file_extension": ".py",
   "mimetype": "text/x-python",
   "name": "python",
   "nbconvert_exporter": "python",
   "pygments_lexer": "ipython3",
   "version": "3.7.0"
  }
 },
 "nbformat": 4,
 "nbformat_minor": 2
}
