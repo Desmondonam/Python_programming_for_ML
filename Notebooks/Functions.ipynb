{
 "cells": [
  {
   "cell_type": "markdown",
   "metadata": {},
   "source": [
    "This notebook is meant to teach on the python fuctions basics"
   ]
  },
  {
   "cell_type": "markdown",
   "metadata": {},
   "source": [
    "To define a function in Python, you use the def keyword followed by the function name and parentheses. Any input parameters are listed within the parentheses, and a colon signifies the start of the function block. The block is indented to indicate that it belongs to the function."
   ]
  },
  {
   "cell_type": "code",
   "execution_count": 1,
   "metadata": {},
   "outputs": [],
   "source": [
    "## the first example\n",
    "def greet():\n",
    "    print(\"Hello, there!\")"
   ]
  },
  {
   "cell_type": "code",
   "execution_count": 2,
   "metadata": {},
   "outputs": [
    {
     "name": "stdout",
     "output_type": "stream",
     "text": [
      "Hello, there!\n"
     ]
    }
   ],
   "source": [
    "## You can call this function by this code \n",
    "greet()"
   ]
  },
  {
   "cell_type": "markdown",
   "metadata": {},
   "source": [
    "You can define functions with parameters, allowing you to pass values into the function for it to work with. Parameters are specified within the parentheses when defining the function, and you can use them within the function block."
   ]
  },
  {
   "cell_type": "code",
   "execution_count": 6,
   "metadata": {},
   "outputs": [],
   "source": [
    "def greet_name(name):\n",
    "    print(\"Hello \"+ name + \".\")"
   ]
  },
  {
   "cell_type": "markdown",
   "metadata": {},
   "source": [
    "### You can also call a fuction with Arguements\n",
    "When calling a function with parameters, you pass the arguments within the parentheses.\n",
    "\n"
   ]
  },
  {
   "cell_type": "code",
   "execution_count": 7,
   "metadata": {},
   "outputs": [
    {
     "name": "stdout",
     "output_type": "stream",
     "text": [
      "Hello Desmond.\n"
     ]
    }
   ],
   "source": [
    "greet_name(\"Desmond\")"
   ]
  },
  {
   "cell_type": "markdown",
   "metadata": {},
   "source": [
    "## Return statement"
   ]
  },
  {
   "cell_type": "code",
   "execution_count": 8,
   "metadata": {},
   "outputs": [],
   "source": [
    "def add_nums(a,b):\n",
    "    return a+b"
   ]
  },
  {
   "cell_type": "markdown",
   "metadata": {},
   "source": [
    "## Functional call with the return statement"
   ]
  },
  {
   "cell_type": "code",
   "execution_count": 10,
   "metadata": {},
   "outputs": [
    {
     "name": "stdout",
     "output_type": "stream",
     "text": [
      "8\n"
     ]
    }
   ],
   "source": [
    "result = add_nums(5, 3)\n",
    "print(result)"
   ]
  },
  {
   "cell_type": "markdown",
   "metadata": {},
   "source": [
    "# CALCULATOR"
   ]
  },
  {
   "cell_type": "markdown",
   "metadata": {},
   "source": [
    "Now with this knowledge let us create a simple python calculator"
   ]
  },
  {
   "cell_type": "markdown",
   "metadata": {},
   "source": [
    "## Step 1: Define Functions for Calculator Operations\n",
    "Define functions for each calculator operation, such as addition, subtraction, multiplication, and division. \n",
    "Each function will take two input numbers and return the result."
   ]
  },
  {
   "cell_type": "code",
   "execution_count": 11,
   "metadata": {},
   "outputs": [],
   "source": [
    "def add(num1, num2):\n",
    "    return num1 + num2\n",
    "\n",
    "def subtract(num1, num2):\n",
    "    return num1 - num2\n",
    "\n",
    "def multiply(num1, num2):\n",
    "    return num1 * num2\n",
    "\n",
    "def divide(num1, num2):\n",
    "    return num1 / num2"
   ]
  },
  {
   "cell_type": "markdown",
   "metadata": {},
   "source": [
    "### Step 2: Get User Input\n",
    "Write a function to get user input for the numbers and the desired operation. \n",
    "You can use the input() function to prompt the user for input."
   ]
  },
  {
   "cell_type": "code",
   "execution_count": 12,
   "metadata": {},
   "outputs": [],
   "source": [
    "def get_user_input():\n",
    "    num1 = float(input(\"Enter the first number: \"))\n",
    "    num2 = float(input(\"Enter the second number: \"))\n",
    "    operation = input(\"Enter the operation (+, -, *, /): \")\n",
    "    return num1, num2, operation"
   ]
  },
  {
   "cell_type": "markdown",
   "metadata": {},
   "source": [
    "### Step 3: Perform Calculation\n",
    "Write a function to perform the calculation based on the user's input. \n",
    "This function will call the respective calculator function based on the operation provided."
   ]
  },
  {
   "cell_type": "code",
   "execution_count": 13,
   "metadata": {},
   "outputs": [],
   "source": [
    "def perform_calculation(num1, num2, operation):\n",
    "    if operation == \"+\":\n",
    "        return add(num1, num2)\n",
    "    elif operation == \"-\":\n",
    "        return subtract(num1, num2)\n",
    "    elif operation == \"*\":\n",
    "        return multiply(num1, num2)\n",
    "    elif operation == \"/\":\n",
    "        return divide(num1, num2)\n",
    "    else:\n",
    "        print(\"Invalid operation\")"
   ]
  },
  {
   "cell_type": "markdown",
   "metadata": {},
   "source": [
    "## Step 4: Main Function\n",
    "Write a main function that brings everything together. \n",
    "It will call the get_user_input() function to get the input from the user, \n",
    "then call the perform_calculation() function to perform the calculation and display the result."
   ]
  },
  {
   "cell_type": "code",
   "execution_count": 14,
   "metadata": {},
   "outputs": [
    {
     "name": "stdout",
     "output_type": "stream",
     "text": [
      "Enter the first number: 54\n",
      "Enter the second number: 43\n",
      "Enter the operation (+, -, *, /): +\n",
      "Result: 97.0\n"
     ]
    }
   ],
   "source": [
    "def main():\n",
    "    num1, num2, operation = get_user_input()\n",
    "    result = perform_calculation(num1, num2, operation)\n",
    "    print(\"Result:\", result)\n",
    "\n",
    "# Call the main function to start the program\n",
    "main()"
   ]
  },
  {
   "cell_type": "markdown",
   "metadata": {},
   "source": [
    "# TASK MANAGER"
   ]
  },
  {
   "cell_type": "markdown",
   "metadata": {},
   "source": [
    "### Step 1: Define Functions for Task Management\n",
    "Define functions for managing tasks, such as adding tasks, viewing tasks, marking tasks as complete, and deleting tasks. \n",
    "Each function will perform a specific task management operation."
   ]
  },
  {
   "cell_type": "code",
   "execution_count": 15,
   "metadata": {},
   "outputs": [],
   "source": [
    "def add_task(tasks, new_task):\n",
    "    tasks.append(new_task)\n",
    "\n",
    "def view_tasks(tasks):\n",
    "    if len(tasks) == 0:\n",
    "        print(\"No tasks found.\")\n",
    "    else:\n",
    "        for index, task in enumerate(tasks, start=1):\n",
    "            print(f\"{index}. {task}\")\n",
    "\n",
    "def complete_task(tasks, task_index):\n",
    "    if task_index >= 1 and task_index <= len(tasks):\n",
    "        tasks[task_index - 1] = \"✔️ \" + tasks[task_index - 1]\n",
    "        print(\"Task marked as complete.\")\n",
    "    else:\n",
    "        print(\"Invalid task index.\")\n",
    "\n",
    "def delete_task(tasks, task_index):\n",
    "    if task_index >= 1 and task_index <= len(tasks):\n",
    "        deleted_task = tasks.pop(task_index - 1)\n",
    "        print(f\"Deleted task: {deleted_task}\")\n",
    "    else:\n",
    "        print(\"Invalid task index.\")"
   ]
  },
  {
   "cell_type": "markdown",
   "metadata": {},
   "source": [
    "### Step 2: Initialize Task List\n",
    "Create an empty list to store the tasks."
   ]
  },
  {
   "cell_type": "code",
   "execution_count": 16,
   "metadata": {},
   "outputs": [],
   "source": [
    "tasks = []"
   ]
  },
  {
   "cell_type": "markdown",
   "metadata": {},
   "source": [
    "### Step 3: Get User Input and Perform Task Management\n",
    "Write a function to get user input and perform the task management operations based on the user's choice. \n",
    "You can use the input() function to prompt the user for input."
   ]
  },
  {
   "cell_type": "code",
   "execution_count": 17,
   "metadata": {},
   "outputs": [],
   "source": [
    "def manage_tasks():\n",
    "    while True:\n",
    "        print(\"\\nTask Manager Menu:\")\n",
    "        print(\"1. Add Task\")\n",
    "        print(\"2. View Tasks\")\n",
    "        print(\"3. Mark Task as Complete\")\n",
    "        print(\"4. Delete Task\")\n",
    "        print(\"5. Quit\")\n",
    "\n",
    "        choice = input(\"Enter your choice (1-5): \")\n",
    "\n",
    "        if choice == \"1\":\n",
    "            new_task = input(\"Enter the task: \")\n",
    "            add_task(tasks, new_task)\n",
    "        elif choice == \"2\":\n",
    "            view_tasks(tasks)\n",
    "        elif choice == \"3\":\n",
    "            task_index = int(input(\"Enter the task index to mark as complete: \"))\n",
    "            complete_task(tasks, task_index)\n",
    "        elif choice == \"4\":\n",
    "            task_index = int(input(\"Enter the task index to delete: \"))\n",
    "            delete_task(tasks, task_index)\n",
    "        elif choice == \"5\":\n",
    "            print(\"Thank you for using the Task Manager.\")\n",
    "            break\n",
    "        else:\n",
    "            print(\"Invalid choice. Please try again.\")"
   ]
  },
  {
   "cell_type": "markdown",
   "metadata": {},
   "source": [
    "### Step 4: Main Function\n",
    "Write a main function that brings everything together. \n",
    "It will call the manage_tasks() function to start the task management process."
   ]
  },
  {
   "cell_type": "code",
   "execution_count": 18,
   "metadata": {},
   "outputs": [
    {
     "name": "stdout",
     "output_type": "stream",
     "text": [
      "Welcome to the Task Manager!\n",
      "\n",
      "Task Manager Menu:\n",
      "1. Add Task\n",
      "2. View Tasks\n",
      "3. Mark Task as Complete\n",
      "4. Delete Task\n",
      "5. Quit\n",
      "Enter your choice (1-5): 1\n",
      "Enter the task: Read the Bible\n",
      "\n",
      "Task Manager Menu:\n",
      "1. Add Task\n",
      "2. View Tasks\n",
      "3. Mark Task as Complete\n",
      "4. Delete Task\n",
      "5. Quit\n",
      "Enter your choice (1-5): 2\n",
      "1. Read the Bible\n",
      "\n",
      "Task Manager Menu:\n",
      "1. Add Task\n",
      "2. View Tasks\n",
      "3. Mark Task as Complete\n",
      "4. Delete Task\n",
      "5. Quit\n",
      "Enter your choice (1-5): 3\n",
      "Enter the task index to mark as complete: 1\n",
      "Task marked as complete.\n",
      "\n",
      "Task Manager Menu:\n",
      "1. Add Task\n",
      "2. View Tasks\n",
      "3. Mark Task as Complete\n",
      "4. Delete Task\n",
      "5. Quit\n",
      "Enter your choice (1-5): 2\n",
      "1. ✔️ Read the Bible\n",
      "\n",
      "Task Manager Menu:\n",
      "1. Add Task\n",
      "2. View Tasks\n",
      "3. Mark Task as Complete\n",
      "4. Delete Task\n",
      "5. Quit\n",
      "Enter your choice (1-5): 4\n",
      "Enter the task index to delete: 1\n",
      "Deleted task: ✔️ Read the Bible\n",
      "\n",
      "Task Manager Menu:\n",
      "1. Add Task\n",
      "2. View Tasks\n",
      "3. Mark Task as Complete\n",
      "4. Delete Task\n",
      "5. Quit\n",
      "Enter your choice (1-5): 5\n",
      "Thank you for using the Task Manager.\n"
     ]
    }
   ],
   "source": [
    "def main():\n",
    "    print(\"Welcome to the Task Manager!\")\n",
    "    manage_tasks()\n",
    "\n",
    "# Call the main function to start the program\n",
    "main()"
   ]
  },
  {
   "cell_type": "code",
   "execution_count": null,
   "metadata": {},
   "outputs": [],
   "source": []
  }
 ],
 "metadata": {
  "kernelspec": {
   "display_name": "Python 3",
   "language": "python",
   "name": "python3"
  },
  "language_info": {
   "codemirror_mode": {
    "name": "ipython",
    "version": 3
   },
   "file_extension": ".py",
   "mimetype": "text/x-python",
   "name": "python",
   "nbconvert_exporter": "python",
   "pygments_lexer": "ipython3",
   "version": "3.7.0"
  }
 },
 "nbformat": 4,
 "nbformat_minor": 2
}
